{
 "cells": [
  {
   "attachments": {},
   "cell_type": "markdown",
   "metadata": {},
   "source": [
    "# **Train and Test LUIS app**\n",
    "\n",
    "Steps:\n",
    "- create an Azure LUIS resource\n",
    "- add the intents and entities\n",
    "- format the data to be compatible with LUIS\n",
    "- add the examples\n",
    "- run a LUIS model training"
   ]
  },
  {
   "attachments": {},
   "cell_type": "markdown",
   "metadata": {},
   "source": [
    "## Imports and set-up"
   ]
  },
  {
   "cell_type": "code",
   "execution_count": 1,
   "metadata": {},
   "outputs": [],
   "source": [
    "import os\n",
    "import time\n",
    "from pathlib import Path\n",
    "\n",
    "import pandas as pd\n",
    "from azure.cognitiveservices.language.luis.authoring import LUISAuthoringClient\n",
    "from azure.cognitiveservices.language.luis.authoring.models import (\n",
    "    ApplicationCreateObject,\n",
    "    ExampleLabelObject,\n",
    "    EntityLabelObject,\n",
    ")\n",
    "\n",
    "from msrest.authentication import CognitiveServicesCredentials\n",
    "from tqdm.notebook import tqdm_notebook as tqdm"
   ]
  },
  {
   "cell_type": "code",
   "execution_count": 2,
   "metadata": {},
   "outputs": [],
   "source": [
    "# App ID = \"c10aeb7c-9207-483b-aa41-6a3027beeb2a\"\n",
    "\n",
    "AZURE_LUIS_ENDPOINT = \"https://flymeluis-authoring.cognitiveservices.azure.com/\"\n",
    "AZURE_LUIS_KEY = \"ae736d99c5984638a8224a596b40b9cd\"\n",
    "\n",
    "AZURE_LUIS_PROJECT_NAME = \"flyme-luis\"\n",
    "AZURE_LUIS_PROJECT_VERSION = \"0.1\"\n",
    "\n",
    "AZURE_APP_ID = \"\"\n",
    "\n",
    "DATA_PATH = Path(\"../data\")\n",
    "FRAMES_JSON_PATH = Path(DATA_PATH, \"raw/frames.json\")"
   ]
  },
  {
   "cell_type": "code",
   "execution_count": 3,
   "metadata": {},
   "outputs": [
    {
     "name": "stdout",
     "output_type": "stream",
     "text": [
      "Created LUIS app with ID cd358193-9fd1-4ac1-a40f-a34e78d2e19d\n"
     ]
    }
   ],
   "source": [
    "## Create the LUIS Application\n",
    "\n",
    "# instanciate LUIS Authoring Client\n",
    "client = LUISAuthoringClient(\n",
    "    AZURE_LUIS_ENDPOINT, CognitiveServicesCredentials(AZURE_LUIS_KEY)\n",
    ")\n",
    "\n",
    "# define app basics\n",
    "appDefinition = ApplicationCreateObject(\n",
    "    name=AZURE_LUIS_PROJECT_NAME,\n",
    "    culture=\"en-us\",\n",
    ")\n",
    "\n",
    "# create app\n",
    "app_id = client.apps.add(appDefinition)\n",
    "\n",
    "# get app id - necessary for all other changes\n",
    "print(\"Created LUIS app with ID {}\".format(app_id))"
   ]
  },
  {
   "attachments": {},
   "cell_type": "markdown",
   "metadata": {},
   "source": [
    "## Add intents and entities"
   ]
  },
  {
   "cell_type": "code",
   "execution_count": 4,
   "metadata": {},
   "outputs": [],
   "source": [
    "def add_flyme_intents(version_id):\n",
    "    book_id = client.model.add_intent(\n",
    "        app_id=app_id, version_id=version_id, name=\"Book\"\n",
    "    )\n",
    "    info_id = client.model.add_intent(\n",
    "        app_id=app_id, version_id=version_id, name=\"Info\"\n",
    "    )\n",
    "\n",
    "\n",
    "def add_flyme_prebuilts(version_id, app_id):\n",
    "    client.model.add_prebuilt(\n",
    "        app_id=app_id,\n",
    "        version_id=AZURE_LUIS_PROJECT_VERSION,\n",
    "        prebuilt_extractor_names=[\"geographyV2\"],\n",
    "    )\n",
    "    client.model.add_prebuilt(\n",
    "        app_id=app_id,\n",
    "        version_id=AZURE_LUIS_PROJECT_VERSION,\n",
    "        prebuilt_extractor_names=[\"datetimeV2\"],\n",
    "    )\n",
    "    client.model.add_prebuilt(\n",
    "        app_id=app_id,\n",
    "        version_id=AZURE_LUIS_PROJECT_VERSION,\n",
    "        prebuilt_extractor_names=[\"number\"],\n",
    "    )\n",
    "\n",
    "\n",
    "def add_flyme_feature_entity(\n",
    "        client,\n",
    "        app_id,\n",
    "        version_id,\n",
    "        entity_name,\n",
    "        model_name,):\n",
    "    entity_id = client.model.add_entity(\n",
    "        app_id=app_id, version_id=version_id, name=entity_name\n",
    "    )\n",
    "    client.features.add_entity_feature(\n",
    "        app_id=app_id,\n",
    "        version_id=version_id,\n",
    "        entity_id=entity_id,\n",
    "        feature_relation_create_object={\n",
    "            \"model_name\": model_name,\n",
    "        },\n",
    "    )\n",
    "\n",
    "\n",
    "def add_flyme_entities():\n",
    "    add_flyme_feature_entity(\n",
    "        client,\n",
    "        app_id,\n",
    "        AZURE_LUIS_PROJECT_VERSION,\n",
    "        \"or_city\",\n",
    "        \"geographyV2\")\n",
    "    \n",
    "    add_flyme_feature_entity(\n",
    "        client,\n",
    "        app_id,\n",
    "        AZURE_LUIS_PROJECT_VERSION,\n",
    "        \"dst_city\",\n",
    "        \"geographyV2\")\n",
    "    \n",
    "    add_flyme_feature_entity(\n",
    "        client,\n",
    "        app_id,\n",
    "        AZURE_LUIS_PROJECT_VERSION,\n",
    "        \"str_date\",\n",
    "        \"geographyV2\")\n",
    "    \n",
    "    add_flyme_feature_entity(\n",
    "        client,\n",
    "        app_id,\n",
    "        AZURE_LUIS_PROJECT_VERSION,\n",
    "        \"end_date\",\n",
    "        \"geographyV2\")\n",
    "    \n",
    "    add_flyme_feature_entity(\n",
    "        client,\n",
    "        app_id,\n",
    "        AZURE_LUIS_PROJECT_VERSION,\n",
    "        \"budget\",\n",
    "        \"number\")"
   ]
  },
  {
   "cell_type": "code",
   "execution_count": 5,
   "metadata": {},
   "outputs": [
    {
     "ename": "AttributeError",
     "evalue": "'FeaturesOperations' object has no attribute 'add_entity_feature'",
     "output_type": "error",
     "traceback": [
      "\u001b[0;31m---------------------------------------------------------------------------\u001b[0m",
      "\u001b[0;31mAttributeError\u001b[0m                            Traceback (most recent call last)",
      "Cell \u001b[0;32mIn[5], line 5\u001b[0m\n\u001b[1;32m      1\u001b[0m add_flyme_intents(AZURE_LUIS_PROJECT_VERSION)\n\u001b[1;32m      3\u001b[0m add_flyme_prebuilts(AZURE_LUIS_PROJECT_VERSION, app_id)\n\u001b[0;32m----> 5\u001b[0m add_flyme_entities()\n",
      "Cell \u001b[0;32mIn[4], line 48\u001b[0m, in \u001b[0;36madd_flyme_entities\u001b[0;34m()\u001b[0m\n\u001b[1;32m     47\u001b[0m \u001b[39mdef\u001b[39;00m \u001b[39madd_flyme_entities\u001b[39m():\n\u001b[0;32m---> 48\u001b[0m     add_flyme_feature_entity(\n\u001b[1;32m     49\u001b[0m         client,\n\u001b[1;32m     50\u001b[0m         app_id,\n\u001b[1;32m     51\u001b[0m         AZURE_LUIS_PROJECT_VERSION,\n\u001b[1;32m     52\u001b[0m         \u001b[39m\"\u001b[39;49m\u001b[39mor_city\u001b[39;49m\u001b[39m\"\u001b[39;49m,\n\u001b[1;32m     53\u001b[0m         \u001b[39m\"\u001b[39;49m\u001b[39mgeographyV2\u001b[39;49m\u001b[39m\"\u001b[39;49m)\n\u001b[1;32m     55\u001b[0m     add_flyme_feature_entity(\n\u001b[1;32m     56\u001b[0m         client,\n\u001b[1;32m     57\u001b[0m         app_id,\n\u001b[1;32m     58\u001b[0m         AZURE_LUIS_PROJECT_VERSION,\n\u001b[1;32m     59\u001b[0m         \u001b[39m\"\u001b[39m\u001b[39mdst_city\u001b[39m\u001b[39m\"\u001b[39m,\n\u001b[1;32m     60\u001b[0m         \u001b[39m\"\u001b[39m\u001b[39mgeographyV2\u001b[39m\u001b[39m\"\u001b[39m)\n\u001b[1;32m     62\u001b[0m     add_flyme_feature_entity(\n\u001b[1;32m     63\u001b[0m         client,\n\u001b[1;32m     64\u001b[0m         app_id,\n\u001b[1;32m     65\u001b[0m         AZURE_LUIS_PROJECT_VERSION,\n\u001b[1;32m     66\u001b[0m         \u001b[39m\"\u001b[39m\u001b[39mstr_date\u001b[39m\u001b[39m\"\u001b[39m,\n\u001b[1;32m     67\u001b[0m         \u001b[39m\"\u001b[39m\u001b[39mgeographyV2\u001b[39m\u001b[39m\"\u001b[39m)\n",
      "Cell \u001b[0;32mIn[4], line 37\u001b[0m, in \u001b[0;36madd_flyme_feature_entity\u001b[0;34m(client, app_id, version_id, entity_name, model_name)\u001b[0m\n\u001b[1;32m     28\u001b[0m \u001b[39mdef\u001b[39;00m \u001b[39madd_flyme_feature_entity\u001b[39m(\n\u001b[1;32m     29\u001b[0m         client,\n\u001b[1;32m     30\u001b[0m         app_id,\n\u001b[1;32m     31\u001b[0m         version_id,\n\u001b[1;32m     32\u001b[0m         entity_name,\n\u001b[1;32m     33\u001b[0m         model_name,):\n\u001b[1;32m     34\u001b[0m     entity_id \u001b[39m=\u001b[39m client\u001b[39m.\u001b[39mmodel\u001b[39m.\u001b[39madd_entity(\n\u001b[1;32m     35\u001b[0m         app_id\u001b[39m=\u001b[39mapp_id, version_id\u001b[39m=\u001b[39mversion_id, name\u001b[39m=\u001b[39mentity_name\n\u001b[1;32m     36\u001b[0m     )\n\u001b[0;32m---> 37\u001b[0m     client\u001b[39m.\u001b[39;49mfeatures\u001b[39m.\u001b[39;49madd_entity_feature(\n\u001b[1;32m     38\u001b[0m         app_id\u001b[39m=\u001b[39mapp_id,\n\u001b[1;32m     39\u001b[0m         version_id\u001b[39m=\u001b[39mversion_id,\n\u001b[1;32m     40\u001b[0m         entity_id\u001b[39m=\u001b[39mentity_id,\n\u001b[1;32m     41\u001b[0m         feature_relation_create_object\u001b[39m=\u001b[39m{\n\u001b[1;32m     42\u001b[0m             \u001b[39m\"\u001b[39m\u001b[39mmodel_name\u001b[39m\u001b[39m\"\u001b[39m: model_name,\n\u001b[1;32m     43\u001b[0m         },\n\u001b[1;32m     44\u001b[0m     )\n",
      "\u001b[0;31mAttributeError\u001b[0m: 'FeaturesOperations' object has no attribute 'add_entity_feature'"
     ]
    }
   ],
   "source": [
    "add_flyme_intents(AZURE_LUIS_PROJECT_VERSION)\n",
    "\n",
    "add_flyme_prebuilts(AZURE_LUIS_PROJECT_VERSION, app_id)\n",
    "\n",
    "add_flyme_entities()"
   ]
  },
  {
   "cell_type": "code",
   "execution_count": 7,
   "metadata": {},
   "outputs": [
    {
     "data": {
      "text/plain": [
       "'cd358193-9fd1-4ac1-a40f-a34e78d2e19d'"
      ]
     },
     "execution_count": 7,
     "metadata": {},
     "output_type": "execute_result"
    }
   ],
   "source": [
    "app_id"
   ]
  },
  {
   "cell_type": "code",
   "execution_count": 6,
   "metadata": {},
   "outputs": [
    {
     "ename": "ErrorResponseException",
     "evalue": "Operation returned an invalid status code 'Bad Request'",
     "output_type": "error",
     "traceback": [
      "\u001b[0;31m---------------------------------------------------------------------------\u001b[0m",
      "\u001b[0;31mErrorResponseException\u001b[0m                    Traceback (most recent call last)",
      "Cell \u001b[0;32mIn[6], line 1\u001b[0m\n\u001b[0;32m----> 1\u001b[0m or_city_id \u001b[39m=\u001b[39m client\u001b[39m.\u001b[39;49mmodel\u001b[39m.\u001b[39;49madd_entity(\n\u001b[1;32m      2\u001b[0m     app_id\u001b[39m=\u001b[39;49mapp_id,\n\u001b[1;32m      3\u001b[0m     version_id\u001b[39m=\u001b[39;49mAZURE_LUIS_PROJECT_VERSION,\n\u001b[1;32m      4\u001b[0m     name\u001b[39m=\u001b[39;49m\u001b[39m\"\u001b[39;49m\u001b[39mor_city\u001b[39;49m\u001b[39m\"\u001b[39;49m\n\u001b[1;32m      5\u001b[0m )\n\u001b[1;32m      6\u001b[0m client\u001b[39m.\u001b[39mfeatures\u001b[39m.\u001b[39madd_entity_feature(\n\u001b[1;32m      7\u001b[0m     app_id\u001b[39m=\u001b[39mapp_id,\n\u001b[1;32m      8\u001b[0m     version_id\u001b[39m=\u001b[39mAZURE_LUIS_PROJECT_VERSION,\n\u001b[0;32m   (...)\u001b[0m\n\u001b[1;32m     12\u001b[0m     },\n\u001b[1;32m     13\u001b[0m )\n",
      "File \u001b[0;32m~/miniconda3/envs/p10_env/lib/python3.9/site-packages/azure/cognitiveservices/language/luis/authoring/operations/model_operations.py:215\u001b[0m, in \u001b[0;36mModelOperations.add_entity\u001b[0;34m(self, app_id, version_id, name, custom_headers, raw, **operation_config)\u001b[0m\n\u001b[1;32m    212\u001b[0m response \u001b[39m=\u001b[39m \u001b[39mself\u001b[39m\u001b[39m.\u001b[39m_client\u001b[39m.\u001b[39msend(request, stream\u001b[39m=\u001b[39m\u001b[39mFalse\u001b[39;00m, \u001b[39m*\u001b[39m\u001b[39m*\u001b[39moperation_config)\n\u001b[1;32m    214\u001b[0m \u001b[39mif\u001b[39;00m response\u001b[39m.\u001b[39mstatus_code \u001b[39mnot\u001b[39;00m \u001b[39min\u001b[39;00m [\u001b[39m201\u001b[39m]:\n\u001b[0;32m--> 215\u001b[0m     \u001b[39mraise\u001b[39;00m models\u001b[39m.\u001b[39mErrorResponseException(\u001b[39mself\u001b[39m\u001b[39m.\u001b[39m_deserialize, response)\n\u001b[1;32m    217\u001b[0m deserialized \u001b[39m=\u001b[39m \u001b[39mNone\u001b[39;00m\n\u001b[1;32m    219\u001b[0m \u001b[39mif\u001b[39;00m response\u001b[39m.\u001b[39mstatus_code \u001b[39m==\u001b[39m \u001b[39m201\u001b[39m:\n",
      "\u001b[0;31mErrorResponseException\u001b[0m: Operation returned an invalid status code 'Bad Request'"
     ]
    }
   ],
   "source": [
    "or_city_id = client.model.add_entity(\n",
    "    app_id=app_id,\n",
    "    version_id=AZURE_LUIS_PROJECT_VERSION,\n",
    "    name=\"or_city\"\n",
    ")\n",
    "client.features.add_entity_feature(\n",
    "    app_id=app_id,\n",
    "    version_id=AZURE_LUIS_PROJECT_VERSION,\n",
    "    entity_id=or_city_id,\n",
    "    feature_relation_create_object={\n",
    "        \"model_name\": \"geographyV2\",\n",
    "    },\n",
    ")"
   ]
  },
  {
   "attachments": {},
   "cell_type": "markdown",
   "metadata": {},
   "source": [
    "## Format data for LUIS"
   ]
  },
  {
   "cell_type": "code",
   "execution_count": null,
   "metadata": {},
   "outputs": [],
   "source": [
    "def format_data_for_luis(\n",
    "        json_path,\n",
    "        batch_size,\n",
    "        app_id,\n",
    "        version_id\n",
    "):\n",
    "    raw_data = pd.read_json(json_path)\n",
    "\n",
    "    entities = [\"or_city\", \"dst_city\", \"str_date\", \"end_date\", \"budget\"]\n",
    "    examples = []\n",
    "    unique_utterances = []\n",
    "\n",
    "    for turn in tqdm(raw_data[\"turns\"]):\n",
    "        for frame in turn:\n",
    "            if frame[\"author\"] == \"wizard\" or frame[\"text\"] in unique_utterances:\n",
    "                continue\n",
    "\n",
    "            unique_utterances.append(frame[\"text\"])\n",
    "\n",
    "            is_book = False\n",
    "            labels = []\n",
    "\n",
    "            for act in frame[\"labels\"][\"acts_without_refs\"]:\n",
    "                for arg in act[\"args\"]:\n",
    "                    if arg[\"key\"] == \"intent\" and arg[\"val\"] == \"book\":\n",
    "                        is_book = True\n",
    "\n",
    "                    if (\n",
    "                        arg[\"key\"] in entities\n",
    "                        and arg[\"val\"] is not None\n",
    "                        and frame[\"text\"].find(arg[\"val\"]) != -1\n",
    "                    ):\n",
    "                        labels.append(\n",
    "                            EntityLabelObject(\n",
    "                                entity_name=arg[\"key\"],\n",
    "                                start_char_index=frame[\"text\"].find(arg[\"val\"]),\n",
    "                                end_char_index=frame[\"text\"].find(arg[\"val\"])\n",
    "                                + len(arg[\"val\"]),\n",
    "                            )\n",
    "                        )\n",
    "\n",
    "            if len(entities) > 0:\n",
    "                examples.append(\n",
    "                    ExampleLabelObject(\n",
    "                        text=frame[\"text\"],\n",
    "                        intent_name=\"Book\" if is_book else \"Info\",\n",
    "                        entity_labels=labels,\n",
    "                    )\n",
    "                )\n",
    "\n",
    "    # add the examples in batch\n",
    "    for index in tqdm(range(0, len(examples), batch_size)):\n",
    "        client.examples.batch(\n",
    "            app_id=app_id,\n",
    "            version_id=version_id,\n",
    "            example_label_object_array=examples[index : index + batch_size],\n",
    "        )"
   ]
  },
  {
   "cell_type": "code",
   "execution_count": null,
   "metadata": {},
   "outputs": [],
   "source": [
    "format_data_for_luis(\n",
    "    FRAMES_JSON_PATH,\n",
    "    100,\n",
    "    app_id,\n",
    "    AZURE_LUIS_PROJECT_VERSION,\n",
    ")"
   ]
  },
  {
   "attachments": {},
   "cell_type": "markdown",
   "metadata": {},
   "source": [
    "## Train data"
   ]
  },
  {
   "cell_type": "code",
   "execution_count": null,
   "metadata": {},
   "outputs": [],
   "source": [
    "def train_flyme_data(client, app_id, version_id):\n",
    "    client.train.train_version(app_id=app_id, version_id=AZURE_LUIS_PROJECT_VERSION)\n",
    "    waiting = True\n",
    "    while waiting:\n",
    "        info = client.train.get_status(app_id=app_id, version_id=AZURE_LUIS_PROJECT_VERSION)\n",
    "\n",
    "        # get_status returns a list of training statuses, one for each model. Loop through them and make sure all are done.\n",
    "        waiting = any(\n",
    "            map(\n",
    "                lambda x: \"Queued\" == x.details.status or \"InProgress\" == x.details.status,\n",
    "                info,\n",
    "            )\n",
    "        )\n",
    "        if waiting:\n",
    "            print(\"Waiting 10 seconds for training to complete...\")\n",
    "            time.sleep(10)\n",
    "        else:\n",
    "            print(\"trained\")\n",
    "            waiting = False"
   ]
  },
  {
   "cell_type": "code",
   "execution_count": null,
   "metadata": {},
   "outputs": [],
   "source": [
    "train_flyme_data(\n",
    "    client,\n",
    "    app_id,\n",
    "    AZURE_LUIS_PROJECT_VERSION\n",
    ")"
   ]
  }
 ],
 "metadata": {
  "kernelspec": {
   "display_name": "p10_env",
   "language": "python",
   "name": "python3"
  },
  "language_info": {
   "codemirror_mode": {
    "name": "ipython",
    "version": 3
   },
   "file_extension": ".py",
   "mimetype": "text/x-python",
   "name": "python",
   "nbconvert_exporter": "python",
   "pygments_lexer": "ipython3",
   "version": "3.9.15"
  },
  "orig_nbformat": 4,
  "vscode": {
   "interpreter": {
    "hash": "925a9e084e6b8999ef9c9dd28589f4924fd8c732ee61505efe76d32f2034159a"
   }
  }
 },
 "nbformat": 4,
 "nbformat_minor": 2
}
