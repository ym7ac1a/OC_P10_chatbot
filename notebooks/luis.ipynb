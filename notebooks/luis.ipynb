{
 "cells": [
  {
   "cell_type": "code",
   "execution_count": 1,
   "metadata": {},
   "outputs": [],
   "source": [
    "import os\n",
    "import time\n",
    "from pathlib import Path\n",
    "\n",
    "import pandas as pd\n",
    "from azure.cognitiveservices.language.luis.authoring import LUISAuthoringClient\n",
    "from azure.cognitiveservices.language.luis.authoring.models import (\n",
    "    ApplicationCreateObject,\n",
    "    ExampleLabelObject,\n",
    "    EntityLabelObject,\n",
    ")\n",
    "\n",
    "from msrest.authentication import CognitiveServicesCredentials\n",
    "from tqdm.notebook import tqdm_notebook as tqdm"
   ]
  },
  {
   "cell_type": "code",
   "execution_count": 5,
   "metadata": {},
   "outputs": [],
   "source": [
    "# App ID = \"c10aeb7c-9207-483b-aa41-6a3027beeb2a\"\n",
    "\n",
    "AZURE_LUIS_ENDPOINT = \"https://flymeluis-authoring.cognitiveservices.azure.com/\"\n",
    "\n",
    "AZURE_LUIS_KEY = \"ae736d99c5984638a8224a596b40b9cd\"\n",
    "\n",
    "AZURE_LUIS_PROJECT_NAME = \"flyme-test\"\n",
    "AZURE_LUIS_PROJECT_VERSION = \"0.1\"\n",
    "\n",
    "DATA_PATH = Path(\"../data\")\n",
    "FRAMES_JSON_PATH = Path(DATA_PATH, \"raw/frames.json\")"
   ]
  },
  {
   "cell_type": "code",
   "execution_count": 6,
   "metadata": {},
   "outputs": [],
   "source": [
    "## Create the LUIS Application\n",
    "\n",
    "# instanciate LUIS Authoring Client\n",
    "client = LUISAuthoringClient(\n",
    "    AZURE_LUIS_ENDPOINT, CognitiveServicesCredentials(AZURE_LUIS_KEY)\n",
    ")\n",
    "\n",
    "# define app basics\n",
    "appDefinition = ApplicationCreateObject(\n",
    "    name=AZURE_LUIS_PROJECT_NAME,\n",
    "    culture=\"en-us\",\n",
    ")"
   ]
  },
  {
   "cell_type": "code",
   "execution_count": 7,
   "metadata": {},
   "outputs": [
    {
     "name": "stdout",
     "output_type": "stream",
     "text": [
      "Created LUIS app with ID 864b102e-4e3b-43f9-9b77-38b9823c2391\n"
     ]
    }
   ],
   "source": [
    "# create app\n",
    "app_id = client.apps.add(appDefinition)\n",
    "\n",
    "# get app id - necessary for all other changes\n",
    "print(\"Created LUIS app with ID {}\".format(app_id))"
   ]
  },
  {
   "cell_type": "code",
   "execution_count": 8,
   "metadata": {},
   "outputs": [],
   "source": [
    "# Add Intents\n",
    "\n",
    "book_id = client.model.add_intent(\n",
    "    app_id=app_id, version_id=AZURE_LUIS_PROJECT_VERSION, name=\"Book\"\n",
    ")\n",
    "info_id = client.model.add_intent(\n",
    "    app_id=app_id, version_id=AZURE_LUIS_PROJECT_VERSION, name=\"Info\"\n",
    ")"
   ]
  },
  {
   "cell_type": "code",
   "execution_count": 9,
   "metadata": {},
   "outputs": [
    {
     "data": {
      "text/plain": [
       "<azure.cognitiveservices.language.luis.authoring.models._models_py3.OperationStatus at 0x7f028859a970>"
      ]
     },
     "execution_count": 9,
     "metadata": {},
     "output_type": "execute_result"
    }
   ],
   "source": [
    "## Add entities\n",
    "\n",
    "# add Prebuilt entity\n",
    "client.model.add_prebuilt(\n",
    "    app_id=app_id,\n",
    "    version_id=AZURE_LUIS_PROJECT_VERSION,\n",
    "    prebuilt_extractor_names=[\"geographyV2\"],\n",
    ")\n",
    "client.model.add_prebuilt(\n",
    "    app_id=app_id,\n",
    "    version_id=AZURE_LUIS_PROJECT_VERSION,\n",
    "    prebuilt_extractor_names=[\"datetimeV2\"],\n",
    ")\n",
    "client.model.add_prebuilt(\n",
    "    app_id=app_id,\n",
    "    version_id=AZURE_LUIS_PROJECT_VERSION,\n",
    "    prebuilt_extractor_names=[\"number\"],\n",
    ")\n",
    "\n",
    "# add entity to app\n",
    "or_city_id = client.model.add_entity(\n",
    "    app_id=app_id, version_id=AZURE_LUIS_PROJECT_VERSION, name=\"or_city\"\n",
    ")\n",
    "client.features.add_entity_feature(\n",
    "    app_id=app_id,\n",
    "    version_id=AZURE_LUIS_PROJECT_VERSION,\n",
    "    entity_id=or_city_id,\n",
    "    feature_relation_create_object={\n",
    "        \"model_name\": \"geographyV2\",\n",
    "    },\n",
    ")\n",
    "dst_city_id = client.model.add_entity(\n",
    "    app_id=app_id, version_id=AZURE_LUIS_PROJECT_VERSION, name=\"dst_city\"\n",
    ")\n",
    "client.features.add_entity_feature(\n",
    "    app_id=app_id,\n",
    "    version_id=AZURE_LUIS_PROJECT_VERSION,\n",
    "    entity_id=dst_city_id,\n",
    "    feature_relation_create_object={\n",
    "        \"model_name\": \"geographyV2\",\n",
    "    },\n",
    ")\n",
    "str_date_id = client.model.add_entity(\n",
    "    app_id=app_id, version_id=AZURE_LUIS_PROJECT_VERSION, name=\"str_date\"\n",
    ")\n",
    "client.features.add_entity_feature(\n",
    "    app_id=app_id,\n",
    "    version_id=AZURE_LUIS_PROJECT_VERSION,\n",
    "    entity_id=str_date_id,\n",
    "    feature_relation_create_object={\n",
    "        \"model_name\": \"datetimeV2\",\n",
    "    },\n",
    ")\n",
    "end_date_id = client.model.add_entity(\n",
    "    app_id=app_id, version_id=AZURE_LUIS_PROJECT_VERSION, name=\"end_date\"\n",
    ")\n",
    "client.features.add_entity_feature(\n",
    "    app_id=app_id,\n",
    "    version_id=AZURE_LUIS_PROJECT_VERSION,\n",
    "    entity_id=end_date_id,\n",
    "    feature_relation_create_object={\n",
    "        \"model_name\": \"datetimeV2\",\n",
    "    },\n",
    ")\n",
    "budget_id = client.model.add_entity(\n",
    "    app_id=app_id, version_id=AZURE_LUIS_PROJECT_VERSION, name=\"budget\"\n",
    ")\n",
    "client.features.add_entity_feature(\n",
    "    app_id=app_id,\n",
    "    version_id=AZURE_LUIS_PROJECT_VERSION,\n",
    "    entity_id=budget_id,\n",
    "    feature_relation_create_object={\n",
    "        \"model_name\": \"number\",\n",
    "    },\n",
    ")"
   ]
  },
  {
   "attachments": {},
   "cell_type": "markdown",
   "metadata": {},
   "source": [
    "Format data for LUIS"
   ]
  },
  {
   "cell_type": "code",
   "execution_count": 10,
   "metadata": {},
   "outputs": [
    {
     "data": {
      "application/vnd.jupyter.widget-view+json": {
       "model_id": "bd75fe76a1e74f2b8c56d6e8ebdd53b8",
       "version_major": 2,
       "version_minor": 0
      },
      "text/plain": [
       "  0%|          | 0/1369 [00:00<?, ?it/s]"
      ]
     },
     "metadata": {},
     "output_type": "display_data"
    },
    {
     "data": {
      "application/vnd.jupyter.widget-view+json": {
       "model_id": "2d56535658f9460c878ce8c782e3326e",
       "version_major": 2,
       "version_minor": 0
      },
      "text/plain": [
       "  0%|          | 0/97 [00:00<?, ?it/s]"
      ]
     },
     "metadata": {},
     "output_type": "display_data"
    }
   ],
   "source": [
    "raw_data = pd.read_json(FRAMES_JSON_PATH)\n",
    "\n",
    "\n",
    "entities = [\"or_city\", \"dst_city\", \"str_date\", \"end_date\", \"budget\"]\n",
    "examples = []\n",
    "unique_utterances = []\n",
    "\n",
    "for turn in tqdm(raw_data[\"turns\"]):\n",
    "    for frame in turn:\n",
    "        if frame[\"author\"] == \"wizard\" or frame[\"text\"] in unique_utterances:\n",
    "            continue\n",
    "\n",
    "        unique_utterances.append(frame[\"text\"])\n",
    "\n",
    "        is_book = False\n",
    "        labels = []\n",
    "\n",
    "        for act in frame[\"labels\"][\"acts_without_refs\"]:\n",
    "            for arg in act[\"args\"]:\n",
    "                if arg[\"key\"] == \"intent\" and arg[\"val\"] == \"book\":\n",
    "                    is_book = True\n",
    "\n",
    "                if (\n",
    "                    arg[\"key\"] in entities\n",
    "                    and arg[\"val\"] is not None\n",
    "                    and frame[\"text\"].find(arg[\"val\"]) != -1\n",
    "                ):\n",
    "                    labels.append(\n",
    "                        EntityLabelObject(\n",
    "                            entity_name=arg[\"key\"],\n",
    "                            start_char_index=frame[\"text\"].find(arg[\"val\"]),\n",
    "                            end_char_index=frame[\"text\"].find(arg[\"val\"])\n",
    "                            + len(arg[\"val\"]),\n",
    "                        )\n",
    "                    )\n",
    "\n",
    "        if len(entities) > 0:\n",
    "            examples.append(\n",
    "                ExampleLabelObject(\n",
    "                    text=frame[\"text\"],\n",
    "                    intent_name=\"Book\" if is_book else \"Info\",\n",
    "                    entity_labels=labels,\n",
    "                )\n",
    "            )\n",
    "\n",
    "# add the examples in batch\n",
    "batch_size = 100\n",
    "for index in tqdm(range(0, len(examples), batch_size)):\n",
    "    client.examples.batch(\n",
    "        app_id=app_id,\n",
    "        version_id=AZURE_LUIS_PROJECT_VERSION,\n",
    "        example_label_object_array=examples[index : index + batch_size],\n",
    "    )"
   ]
  },
  {
   "attachments": {},
   "cell_type": "markdown",
   "metadata": {},
   "source": [
    "Train the model to recognise intents and entities in examples"
   ]
  },
  {
   "cell_type": "code",
   "execution_count": 11,
   "metadata": {},
   "outputs": [
    {
     "name": "stdout",
     "output_type": "stream",
     "text": [
      "Waiting 10 seconds for training to complete...\n",
      "Waiting 10 seconds for training to complete...\n",
      "Waiting 10 seconds for training to complete...\n",
      "Waiting 10 seconds for training to complete...\n",
      "Waiting 10 seconds for training to complete...\n",
      "Waiting 10 seconds for training to complete...\n",
      "Waiting 10 seconds for training to complete...\n",
      "Waiting 10 seconds for training to complete...\n",
      "Waiting 10 seconds for training to complete...\n",
      "Waiting 10 seconds for training to complete...\n",
      "Waiting 10 seconds for training to complete...\n",
      "Waiting 10 seconds for training to complete...\n",
      "Waiting 10 seconds for training to complete...\n",
      "Waiting 10 seconds for training to complete...\n",
      "Waiting 10 seconds for training to complete...\n",
      "Waiting 10 seconds for training to complete...\n",
      "Waiting 10 seconds for training to complete...\n",
      "Waiting 10 seconds for training to complete...\n",
      "Waiting 10 seconds for training to complete...\n",
      "Waiting 10 seconds for training to complete...\n",
      "Waiting 10 seconds for training to complete...\n",
      "Waiting 10 seconds for training to complete...\n",
      "Waiting 10 seconds for training to complete...\n",
      "Waiting 10 seconds for training to complete...\n",
      "trained\n"
     ]
    }
   ],
   "source": [
    "client.train.train_version(app_id=app_id, version_id=AZURE_LUIS_PROJECT_VERSION)\n",
    "waiting = True\n",
    "while waiting:\n",
    "    info = client.train.get_status(app_id=app_id, version_id=AZURE_LUIS_PROJECT_VERSION)\n",
    "\n",
    "    # get_status returns a list of training statuses, one for each model. Loop through them and make sure all are done.\n",
    "    waiting = any(\n",
    "        map(\n",
    "            lambda x: \"Queued\" == x.details.status or \"InProgress\" == x.details.status,\n",
    "            info,\n",
    "        )\n",
    "    )\n",
    "    if waiting:\n",
    "        print(\"Waiting 10 seconds for training to complete...\")\n",
    "        time.sleep(10)\n",
    "    else:\n",
    "        print(\"trained\")\n",
    "        waiting = False"
   ]
  },
  {
   "attachments": {},
   "cell_type": "markdown",
   "metadata": {},
   "source": [
    "Test the model"
   ]
  },
  {
   "cell_type": "code",
   "execution_count": 14,
   "metadata": {},
   "outputs": [
    {
     "name": "stdout",
     "output_type": "stream",
     "text": [
      "{\n",
      "    \"error\": {\n",
      "        \"code\": \"404\",\n",
      "        \"message\": \"Resource not found\"\n",
      "    }\n",
      "}\n"
     ]
    }
   ],
   "source": [
    "import requests\n",
    "import json\n",
    "\n",
    "\n",
    "AZURE_LUIS_PRED_ENDPOINT = \"https://flyme-language-service.cognitiveservices.azure.com/\" #os.getenv(\"AZURE_LUIS_PRED_ENDPOINT\")\n",
    "AZURE_LUIS_PRED_KEY = \"2e6eed940b74454fb120c58d3e764741\" #os.getenv(\"AZURE_LUIS_PRED_KEY\")\n",
    "\n",
    "query = \"I want to book a trip from Paris to London for less than $100. \" +\\\n",
    "    \"I will leave on the first of January 2023 and come back on the 17th of january 2023.\"\n",
    "\n",
    "pred = requests.get(\n",
    "    f\"{AZURE_LUIS_PRED_ENDPOINT}?verbose=true&show-all-intents=true&log=true&subscription-key={AZURE_LUIS_PRED_KEY}&query={query}\"\n",
    ").json()\n",
    "\n",
    "\n",
    "print(json.dumps(pred, indent=4))"
   ]
  },
  {
   "cell_type": "code",
   "execution_count": null,
   "metadata": {},
   "outputs": [],
   "source": []
  }
 ],
 "metadata": {
  "kernelspec": {
   "display_name": "p10_env",
   "language": "python",
   "name": "python3"
  },
  "language_info": {
   "codemirror_mode": {
    "name": "ipython",
    "version": 3
   },
   "file_extension": ".py",
   "mimetype": "text/x-python",
   "name": "python",
   "nbconvert_exporter": "python",
   "pygments_lexer": "ipython3",
   "version": "3.9.15"
  },
  "orig_nbformat": 4,
  "vscode": {
   "interpreter": {
    "hash": "925a9e084e6b8999ef9c9dd28589f4924fd8c732ee61505efe76d32f2034159a"
   }
  }
 },
 "nbformat": 4,
 "nbformat_minor": 2
}
